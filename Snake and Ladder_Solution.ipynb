{
 "cells": [
  {
   "cell_type": "code",
   "execution_count": 1,
   "metadata": {},
   "outputs": [],
   "source": [
    "#Import libraries\n",
    "import numpy as np\n",
    "import pandas as pd\n",
    "import matplotlib.pyplot as plt\n",
    "\n",
    "%matplotlib inline"
   ]
  },
  {
   "cell_type": "code",
   "execution_count": 2,
   "metadata": {},
   "outputs": [],
   "source": [
    "#Input Parameters\n",
    "die_bias=(0.32,0.32,0.12,0.04,0.07,0.13)\n",
    "# ladderDict={32:62, 42:68, 12:98}\n",
    "# snakeDict={95:13 ,97:25, 93:37 ,79:27, 75:19,49:47 ,67:17}\n",
    "slDict={32:62, 42:68, 12:98, 95:13 ,97:25, 93:37 ,79:27, 75:19, 49:47, 67:17}"
   ]
  },
  {
   "cell_type": "code",
   "execution_count": 3,
   "metadata": {},
   "outputs": [],
   "source": [
    "def die_roll(bias):\n",
    "    '''this function rolls 6 dimensional die with biasing provided'''\n",
    "    return np.random.choice(range(1,7),p=bias)\n",
    "\n",
    "#die_roll(die_bias)"
   ]
  },
  {
   "cell_type": "code",
   "execution_count": 4,
   "metadata": {},
   "outputs": [],
   "source": [
    "#To run the game once for a specific configuration\n",
    "def count_rolls(sl_dict,bias):\n",
    "    curr_pos = 0\n",
    "    rolls = 0\n",
    "    while curr_pos <= 100:\n",
    "        rolls += 1\n",
    "        step = die_roll(die_bias)\n",
    "        new_position = curr_pos + step\n",
    "        if new_position == 100:\n",
    "            break\n",
    "        elif new_position > 100:\n",
    "            new_position = curr_pos\n",
    "        elif new_position in sl_dict.keys():\n",
    "            new_position = sl_dict[new_position]\n",
    "        curr_pos = new_position\n",
    "    return rolls\n",
    "\n",
    "# count_rolls(slDict,die_bias)"
   ]
  },
  {
   "cell_type": "code",
   "execution_count": 5,
   "metadata": {},
   "outputs": [],
   "source": [
    "#Get number of rolls to reach 100\n",
    "rolls_dist = []\n",
    "for i in range (5000):\n",
    "    rolls_dist.append(count_rolls(slDict, die_bias))"
   ]
  },
  {
   "cell_type": "code",
   "execution_count": 6,
   "metadata": {},
   "outputs": [],
   "source": [
    "rolls_df = pd.DataFrame(data=rolls_dist,columns=['Rolls'])"
   ]
  },
  {
   "cell_type": "code",
   "execution_count": 7,
   "metadata": {},
   "outputs": [
    {
     "data": {
      "text/plain": [
       "(array([19., 78.,  0., ...,  0.,  0.,  1.]),\n",
       " array([3.0000000e+00, 3.6354000e+00, 4.2708000e+00, ..., 3.1787292e+03,\n",
       "        3.1793646e+03, 3.1800000e+03]),\n",
       " <a list of 5000 Patch objects>)"
      ]
     },
     "execution_count": 7,
     "metadata": {},
     "output_type": "execute_result"
    },
    {
     "data": {
      "image/png": "[encoded data removed]",
      "text/plain": [
       "<Figure size 432x288 with 1 Axes>"
      ]
     },
     "metadata": {
      "needs_background": "light"
     },
     "output_type": "display_data"
    }
   ],
   "source": [
    "plt.hist(rolls_dist,bins=5000)"
   ]
  },
  {
   "cell_type": "code",
   "execution_count": 8,
   "metadata": {},
   "outputs": [
    {
     "data": {
      "image/png": "[encoded data removed]",
      "text/plain": [
       "<Figure size 432x288 with 1 Axes>"
      ]
     },
     "metadata": {
      "needs_background": "light"
     },
     "output_type": "display_data"
    }
   ],
   "source": [
    "plt.hist(rolls_dist,bins=5000)\n",
    "plt.axis([0,550,0,350])\n",
    "\n",
    "plt.show()"
   ]
  }
 ],
 "metadata": {
  "kernelspec": {
   "display_name": "Python 3",
   "language": "python",
   "name": "python3"
  },
  "language_info": {
   "codemirror_mode": {
    "name": "ipython",
    "version": 3
   },
   "file_extension": ".py",
   "mimetype": "text/x-python",
   "name": "python",
   "nbconvert_exporter": "python",
   "pygments_lexer": "ipython3",
   "version": "3.7.1"
  }
 },
 "nbformat": 4,
 "nbformat_minor": 2
}
